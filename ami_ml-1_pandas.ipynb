{
 "cells": [
  {
   "cell_type": "markdown",
   "metadata": {
    "id": "HcF9My_FhLuk"
   },
   "source": [
    "## Машинное обучение 1, ПМИ ФКН ВШЭ\n",
    "\n",
    "## Практическое домашнее задание 1\n",
    "\n",
    "### Общая информация\n",
    "\n",
    "Дата выдачи: 25.09.2024\n",
    "\n",
    "Мягкий дедлайн: 23:59MSK 06.10.2024\n",
    "\n",
    "Жесткий дедлайн: 23:59MSK 10.10.2024"
   ]
  },
  {
   "cell_type": "markdown",
   "metadata": {
    "id": "G64TptyJhLuo"
   },
   "source": [
    "### О задании\n",
    "\n",
    "Задание состоит из двух разделов, посвященных работе с табличными данными с помощью библиотеки `pandas` и визуализации с помощью `matplotlib`. В первом разделе вам предстоит выполнить базовые задания с помощью вышеуказанных библиотек, а во втором распределить студентов по курсам. Баллы даются за выполнение отдельных пунктов. Задачи в рамках одного раздела рекомендуется решать в том порядке, в котором они даны в задании.\n",
    "\n",
    "Задание направлено на освоение jupyter notebook (будет использоваться в дальнейших заданиях), библиотек pandas и matplotlib.\n",
    "\n",
    "### Оценивание и штрафы\n",
    "Каждая из задач имеет определенную «стоимость» (указана в скобках около задачи). Максимально допустимая оценка за работу — 10 баллов без учёта бонусов. Сдавать задание после жёсткого дедлайна нельзя.\n",
    "\n",
    "Задание выполняется самостоятельно. «Похожие» решения считаются плагиатом и все задействованные студенты (в том числе те, у кого списали) не могут получить за него больше 0 баллов (подробнее о плагиате см. на странице курса). Если вы нашли решение какого-то из заданий (или его часть) в открытом источнике, необходимо указать ссылку на этот источник (скорее всего вы будете не единственным, кто это нашел, поэтому чтобы исключить подозрение в плагиате, необходима ссылка на источник).\n",
    "\n",
    "### Формат сдачи\n",
    "Задания сдаются через систему Anytask. Инвайт можно получить у семинариста или ассистента. Присылать необходимо ноутбук с выполненным заданием. Сам ноутбук называйте в формате `homework-practice-01-pandas-Username.ipynb`, где Username — ваша фамилия.\n",
    "\n",
    "Для удобства проверки самостоятельно посчитайте свою максимальную оценку (исходя из набора решенных задач) и укажите ниже.\n",
    "\n",
    "Оценка: xx."
   ]
  },
  {
   "cell_type": "markdown",
   "metadata": {
    "id": "BaXlfHE_hLup"
   },
   "source": [
    "## 0. Введение"
   ]
  },
  {
   "cell_type": "markdown",
   "metadata": {
    "id": "wirAvJNxhLup"
   },
   "source": [
    "Сейчас мы находимся в jupyter-ноутбуке (или ipython-ноутбуке). Это удобная среда для написания кода, проведения экспериментов, изучения данных, построения визуализаций и других нужд, не связанных с написанием production-кода.\n",
    "\n",
    "Ноутбук состоит из ячеек, каждая из которых может быть либо ячейкой с кодом, либо ячейкой с текстом размеченным и неразмеченным. Текст поддерживает markdown-разметку и формулы в Latex.\n",
    "\n",
    "Для работы с содержимым ячейки используется *режим редактирования* (*Edit mode*, включается нажатием клавиши **Enter** после выбора ячейки), а для навигации между ячейками искользуется *командный режим* (*Command mode*, включается нажатием клавиши **Esc**). Тип ячейки можно задать в командном режиме либо с помощью горячих клавиш (**y** to code, **m** to markdown, **r** to edit raw text), либо в меню *Cell -> Cell type*.\n",
    "\n",
    "После заполнения ячейки нужно нажать *Shift + Enter*, эта команда обработает содержимое ячейки: проинтерпретирует код или сверстает размеченный текст."
   ]
  },
  {
   "cell_type": "code",
   "execution_count": null,
   "metadata": {
    "id": "aQ2_j3nkhLuq"
   },
   "outputs": [],
   "source": [
    "# ячейка с кодом, при выполнении которой появится output\n",
    "2 + 2"
   ]
  },
  {
   "cell_type": "markdown",
   "metadata": {
    "id": "ZlulCwVKhLur"
   },
   "source": [
    "Ячейка с неразмеченным текстом."
   ]
  },
  {
   "cell_type": "markdown",
   "metadata": {
    "id": "A4wkVlIehLur"
   },
   "source": [
    "Попробуйте создать свои ячейки, написать какой-нибудь код и текст какой-нибудь формулой."
   ]
  },
  {
   "cell_type": "code",
   "execution_count": null,
   "metadata": {
    "id": "BIuaYSvqhLus"
   },
   "outputs": [],
   "source": [
    "# your code"
   ]
  },
  {
   "cell_type": "markdown",
   "metadata": {
    "id": "iWs6ljrIhLus"
   },
   "source": [
    "[Здесь](https://athena.brynmawr.edu/jupyter/hub/dblank/public/Jupyter%20Notebook%20Users%20Manual.ipynb) находится <s>не</s>большая заметка о используемом языке разметки Markdown. Он позволяет:\n",
    "\n",
    "0. Составлять упорядоченные списки\n",
    "1. Выделять *текст* <s>при</s> **необходимости**\n",
    "2. Добавлять [ссылки](http://imgs.xkcd.com/comics/the_universal_label.png)\n",
    "\n",
    "\n",
    "* Составлять неупорядоченные списки\n",
    "\n",
    "Делать вставки с помощью LaTex:\n",
    "    \n",
    "$\n",
    "\\left\\{\n",
    "\\begin{array}{ll}\n",
    "x = 16 \\sin^3 (t) \\\\\n",
    "y = 13 \\cos (t) - 5 \\cos (2t) - 2 \\cos (3t) - \\cos (4t) \\\\\n",
    "t \\in [0, 2 \\pi]\n",
    "\\end{array}\n",
    "\\right.$"
   ]
  },
  {
   "cell_type": "markdown",
   "metadata": {
    "id": "6fmTGcXOhLus"
   },
   "source": [
    "А ещё можно вставлять картинки, или гифки, или что захотите:\n",
    "\n",
    "<img src=\"https://media1.tenor.com/images/9b8fbe9214504bcf6c60fe4e4f7e114e/tenor.gif?itemid=5416416\" style=\"width: 400px\">"
   ]
  },
  {
   "cell_type": "markdown",
   "metadata": {
    "id": "J_toGw7DhLut"
   },
   "source": [
    "### Google Colab"
   ]
  },
  {
   "cell_type": "markdown",
   "metadata": {
    "id": "jpkbCVjGhLut"
   },
   "source": [
    "Что за колаб?\n",
    "\n",
    "**Google Colab (Colaboratory)** это **Jupyter Notebook + Cloud + Google Drive.**\n",
    "\n",
    "Компания Google предоставляет возможность бесплатно запускать ноутбуки (предварительно загрузив их на свой гугл-диск) прямо в облаке. При этом вам не требуется установка никаких пакетов на свою машину, а работать можно прямиком из браузера. Вот ссылка:"
   ]
  },
  {
   "cell_type": "markdown",
   "metadata": {
    "id": "06MQog3yhLut"
   },
   "source": [
    "https://colab.research.google.com"
   ]
  },
  {
   "cell_type": "markdown",
   "metadata": {
    "id": "5_hfWXKPhLut"
   },
   "source": [
    "При использовании вы увидите много сходств с jupyter ноутбуком. Одним из преимуществ является доступность GPU, соответствующую опцию можно активировать в настройках сервиса. При желании вы сможете найти в интернете много туториалов по использованию или разобраться самостоятельно"
   ]
  },
  {
   "cell_type": "markdown",
   "metadata": {
    "id": "DcRcwHpG8pxB"
   },
   "source": [
    "### Kaggle\n",
    "\n",
    "Альтернативой является **Kaggle**, он же площадка для самых разных соревнований по машинному обучению\n",
    "\n",
    "Он, как и колаб, предоставляет бесплатный GPU, и даже не один, с чётким лимитом в 30 часов в неделю (colab может его внезапно отобрать, kaggle - нет) более мощные CPU с большим числом ядер, и больше Гб ОЗУ (раз так в 2.5)\n",
    "\n",
    "https://www.kaggle.com\n",
    "\n",
    "К сожалению мир не идеален, недостатки следующие:\n",
    "- необходимость загружать датасеты через специальную кнопочку\n",
    "- невозможность использовать свои скрипты и модули :(\n",
    "- нужно тыкать техподдержку, чтобы создать аккаунт из России"
   ]
  },
  {
   "cell_type": "markdown",
   "metadata": {
    "id": "sUe2vnFGhLuu"
   },
   "source": [
    "## 1. Табличные данные и Pandas"
   ]
  },
  {
   "cell_type": "markdown",
   "metadata": {
    "id": "DJQzjjqJhLuu"
   },
   "source": [
    "Pandas — удобная библиотека для работы с табличными данными в Python, если данных не слишком много и они помещаются в оперативную память вашего компьютера. Несмотря на неэффективность реализации и некоторые проблемы, библиотека стала стандартом в анализе данных.\n",
    "\n",
    "Основной объект в `pandas` — это `pd.DataFrame`, представляющий собой таблицу с именованными колонками различных типов, индексом (может быть многоуровневым). DataFrame можно создавать, считывая таблицу из файла или задавая вручную из других объектов.\n",
    "\n",
    "В этой части потребуется выполнить несколько небольших заданий. Можно пойти двумя путями: сначала изучить материалы, а потом приступить к заданиям, или же разбираться \"по ходу\". Выбирайте сами.\n",
    "\n",
    "Материалы:\n",
    "1. [Pandas за 10 минут из официального руководства](http://pandas.pydata.org/pandas-docs/stable/10min.html)\n",
    "2. [Документация](http://pandas.pydata.org/pandas-docs/stable/index.html) (стоит обращаться, если не понятно, как вызывать конкретный метод)\n",
    "3. [Примеры использования функционала](http://nbviewer.jupyter.org/github/justmarkham/pandas-videos/blob/master/pandas.ipynb)\n",
    "\n",
    "Многие из заданий можно выполнить несколькими способами. Не существуют единственно верного, но попробуйте максимально задействовать арсенал pandas и ориентируйтесь на простоту и понятность вашего кода. Мы не будем подсказывать, что нужно использовать для решения конкретной задачи, попробуйте находить необходимый функционал сами (название метода чаще всего очевидно). В помощь вам документация, поиск и StackOverflow."
   ]
  },
  {
   "cell_type": "code",
   "execution_count": 1,
   "metadata": {
    "id": "26zbFY25hLuv",
    "outputId": "404c22c6-2696-48ab-c71e-7a3ffbc36b18"
   },
   "outputs": [
    {
     "name": "stdout",
     "output_type": "stream",
     "text": [
      "%pylab is deprecated, use %matplotlib inline and import the required libraries.\n",
      "Populating the interactive namespace from numpy and matplotlib\n"
     ]
    }
   ],
   "source": [
    "%pylab inline\n",
    "import pandas as pd"
   ]
  },
  {
   "cell_type": "markdown",
   "metadata": {
    "id": "QZmj3q3c8A8c"
   },
   "source": [
    "<span style=\"color:red\">Перед выполнением задания необходимо ознакомиться с первым семинаром (seminars/sem01-pandas.ipynb) </span>.\n",
    "\n",
    "Это поможет вам получить общее понимание происходяшего и успешнее справиться с заданием.\n",
    "\n",
    "Также успешному выполнению способствует внимательное чтение текста задания от начала до конца.\n",
    "\n",
    "Удачи!"
   ]
  },
  {
   "cell_type": "markdown",
   "metadata": {
    "id": "dneJl9TyhLuv"
   },
   "source": [
    "Скачаем подготовленные на семинаре данные:"
   ]
  },
  {
   "cell_type": "code",
   "execution_count": 2,
   "metadata": {
    "id": "rj_I0RslhLuw"
   },
   "outputs": [],
   "source": [
    "!wget  -O 'end_seminar.xlsx' -q 'https://www.dropbox.com/s/f4rm8sjc3v99p0m/_end_seminar.xlsx?dl=0'"
   ]
  },
  {
   "cell_type": "markdown",
   "metadata": {
    "id": "5hp7bn_ThLuw"
   },
   "source": [
    "Для пользователей Windows: скачайте файл самостоятельно и поместите его в папку с тетрадкой. Или попробуйте один из следующих вариантов:"
   ]
  },
  {
   "cell_type": "code",
   "execution_count": null,
   "metadata": {
    "id": "4h4_BaX8hLuw"
   },
   "outputs": [],
   "source": [
    "# !powershell iwr -outf somefile https://somesite/somefile"
   ]
  },
  {
   "cell_type": "code",
   "execution_count": null,
   "metadata": {
    "id": "7bHroLGChLuw"
   },
   "outputs": [],
   "source": [
    "# !pip install wget\n",
    "# import wget\n",
    "# wget.download('https://dropbox.com/s/f4rm8sjc3v99p0m/_end_seminar.xlsx?dl=1', 'end_seminar.xlsx')"
   ]
  },
  {
   "cell_type": "markdown",
   "metadata": {
    "id": "VFs_6IythLux"
   },
   "source": [
    "##### В первой части задания (до раздела \"Распределение студентов по курсам\") использование циклов запрещается и повлечет за собой снижение оценки. Использование <code>vectorize</code> и  <code>apply</code>, <code>apply_along_axis</code> и всего, где можно применить лямбда-функции (`assign`, `map`, ...) крайне нежелательно"
   ]
  },
  {
   "cell_type": "markdown",
   "metadata": {
    "id": "shFkfJkohLux"
   },
   "source": [
    "Для каждой задачи из этого раздела вы должны написать код для получения ответа, а также дать текстовый ответ, если он предполагается.\n",
    "\n",
    "На некоторые вопросы вы можете получить путём пристального взгляда на таблицу, но это не будет засчитываться. Вы в любом случае должны получить ответ с помощью кода."
   ]
  },
  {
   "cell_type": "markdown",
   "metadata": {
    "id": "gDD85M7bhLux"
   },
   "source": [
    "#### 1. [0.5 баллов] Откройте файл с таблицей (не забудьте про её формат). Выведите 3 последних строки.\n",
    "\n",
    "Посмотрите на данные и скажите, что они из себя представляют, сколько в таблице строк, какие столбцы? (на это не надо отвечать, просто подумайте об этом)"
   ]
  },
  {
   "cell_type": "code",
   "execution_count": 260,
   "metadata": {
    "id": "PKulur3LhLuy"
   },
   "outputs": [
    {
     "data": {
      "text/html": [
       "<div>\n",
       "<style scoped>\n",
       "    .dataframe tbody tr th:only-of-type {\n",
       "        vertical-align: middle;\n",
       "    }\n",
       "\n",
       "    .dataframe tbody tr th {\n",
       "        vertical-align: top;\n",
       "    }\n",
       "\n",
       "    .dataframe thead th {\n",
       "        text-align: right;\n",
       "    }\n",
       "</style>\n",
       "<table border=\"1\" class=\"dataframe\">\n",
       "  <thead>\n",
       "    <tr style=\"text-align: right;\">\n",
       "      <th></th>\n",
       "      <th>timestamp</th>\n",
       "      <th>id</th>\n",
       "      <th>rating</th>\n",
       "      <th>18_group</th>\n",
       "      <th>is_mi</th>\n",
       "      <th>fall_1</th>\n",
       "      <th>fall_2</th>\n",
       "      <th>fall_3</th>\n",
       "      <th>spring_1</th>\n",
       "      <th>spring_2</th>\n",
       "      <th>spring_3</th>\n",
       "      <th>is_first_time</th>\n",
       "      <th>percentile</th>\n",
       "      <th>17_group</th>\n",
       "      <th>blended</th>\n",
       "      <th>is_ml_student</th>\n",
       "    </tr>\n",
       "  </thead>\n",
       "  <tbody>\n",
       "    <tr>\n",
       "      <th>358</th>\n",
       "      <td>2020-05-20 11:54:38.318</td>\n",
       "      <td>d7118b44c7e8fdbbaaca226d2da6fef1</td>\n",
       "      <td>1111</td>\n",
       "      <td>NaN</td>\n",
       "      <td>NaN</td>\n",
       "      <td>Сбор и обработка данных с помощью краудсорсинга</td>\n",
       "      <td>Statistical Learning Theory</td>\n",
       "      <td>Анализ неструктурированных данных</td>\n",
       "      <td>Проектирование и разработка высоконагруженных ...</td>\n",
       "      <td>Методы сжатия и передачи медиаданных</td>\n",
       "      <td>Численные методы</td>\n",
       "      <td>Да</td>\n",
       "      <td>0.652174</td>\n",
       "      <td>173.0</td>\n",
       "      <td>Соревновательный анализ данных</td>\n",
       "      <td>NaN</td>\n",
       "    </tr>\n",
       "    <tr>\n",
       "      <th>359</th>\n",
       "      <td>2020-05-23 21:16:40.916</td>\n",
       "      <td>79d14db48e4737af731960ae212d5134</td>\n",
       "      <td>966</td>\n",
       "      <td>NaN</td>\n",
       "      <td>NaN</td>\n",
       "      <td>Безопасность компьютерных систем</td>\n",
       "      <td>Принятие решений в условиях риска и неопределё...</td>\n",
       "      <td>Анализ неструктурированных данных</td>\n",
       "      <td>Проектирование и разработка высоконагруженных ...</td>\n",
       "      <td>Методы сжатия и передачи медиаданных</td>\n",
       "      <td>Компьютерное зрение</td>\n",
       "      <td>Да</td>\n",
       "      <td>0.985507</td>\n",
       "      <td>172.0</td>\n",
       "      <td>DevOps</td>\n",
       "      <td>NaN</td>\n",
       "    </tr>\n",
       "    <tr>\n",
       "      <th>360</th>\n",
       "      <td>2020-05-23 21:16:40.916</td>\n",
       "      <td>f2d210ace25a841e1e58036b257d5d47</td>\n",
       "      <td>1195</td>\n",
       "      <td>NaN</td>\n",
       "      <td>NaN</td>\n",
       "      <td>Анализ неструктурированных данных</td>\n",
       "      <td>Моделирование временных рядов</td>\n",
       "      <td>Высокопроизводительные вычисления</td>\n",
       "      <td>Обучение с подкреплением</td>\n",
       "      <td>Компьютерное зрение</td>\n",
       "      <td>Методы сжатия и передачи медиаданных</td>\n",
       "      <td>NaN</td>\n",
       "      <td>0.369565</td>\n",
       "      <td>176.0</td>\n",
       "      <td>Соревновательный анализ данных</td>\n",
       "      <td>NaN</td>\n",
       "    </tr>\n",
       "  </tbody>\n",
       "</table>\n",
       "</div>"
      ],
      "text/plain": [
       "                  timestamp                                id  rating  \\\n",
       "358 2020-05-20 11:54:38.318  d7118b44c7e8fdbbaaca226d2da6fef1    1111   \n",
       "359 2020-05-23 21:16:40.916  79d14db48e4737af731960ae212d5134     966   \n",
       "360 2020-05-23 21:16:40.916  f2d210ace25a841e1e58036b257d5d47    1195   \n",
       "\n",
       "     18_group  is_mi                                           fall_1  \\\n",
       "358       NaN    NaN  Сбор и обработка данных с помощью краудсорсинга   \n",
       "359       NaN    NaN                 Безопасность компьютерных систем   \n",
       "360       NaN    NaN                Анализ неструктурированных данных   \n",
       "\n",
       "                                                fall_2  \\\n",
       "358                        Statistical Learning Theory   \n",
       "359  Принятие решений в условиях риска и неопределё...   \n",
       "360                      Моделирование временных рядов   \n",
       "\n",
       "                                fall_3  \\\n",
       "358  Анализ неструктурированных данных   \n",
       "359  Анализ неструктурированных данных   \n",
       "360  Высокопроизводительные вычисления   \n",
       "\n",
       "                                              spring_1  \\\n",
       "358  Проектирование и разработка высоконагруженных ...   \n",
       "359  Проектирование и разработка высоконагруженных ...   \n",
       "360                           Обучение с подкреплением   \n",
       "\n",
       "                                 spring_2  \\\n",
       "358  Методы сжатия и передачи медиаданных   \n",
       "359  Методы сжатия и передачи медиаданных   \n",
       "360                   Компьютерное зрение   \n",
       "\n",
       "                                 spring_3 is_first_time  percentile  17_group  \\\n",
       "358                      Численные методы            Да    0.652174     173.0   \n",
       "359                   Компьютерное зрение            Да    0.985507     172.0   \n",
       "360  Методы сжатия и передачи медиаданных           NaN    0.369565     176.0   \n",
       "\n",
       "                            blended  is_ml_student  \n",
       "358  Соревновательный анализ данных            NaN  \n",
       "359                          DevOps            NaN  \n",
       "360  Соревновательный анализ данных            NaN  "
      ]
     },
     "execution_count": 260,
     "metadata": {},
     "output_type": "execute_result"
    }
   ],
   "source": [
    "df = pd.read_excel('end_seminar.xlsx')\n",
    "df.tail(3)"
   ]
  },
  {
   "cell_type": "markdown",
   "metadata": {
    "id": "P6dOzc7e85Bs"
   },
   "source": [
    "### Ответьте на вопросы:\n",
    "1. Сколько было уникальных пользователей из групп 18-го года набора, а сколько из групп 17-го года?"
   ]
  },
  {
   "cell_type": "code",
   "execution_count": 261,
   "metadata": {
    "id": "ZLBcHvHf890B"
   },
   "outputs": [
    {
     "name": "stdout",
     "output_type": "stream",
     "text": [
      "из групп 18-го года набора:  213\n",
      "из групп 17-го года набора:  134\n"
     ]
    }
   ],
   "source": [
    "print(\"из групп 18-го года набора: \", df[df[\"18_group\"].notna()]['id'].nunique())\n",
    "print(\"из групп 17-го года набора: \", df[df[\"17_group\"].notna()]['id'].nunique())"
   ]
  },
  {
   "cell_type": "markdown",
   "metadata": {
    "id": "dt89P1sG88NN"
   },
   "source": [
    "2. Есть ли уникальные студенты с равными перцентилями?"
   ]
  },
  {
   "cell_type": "code",
   "execution_count": 262,
   "metadata": {
    "id": "NA8Yy9D98-Nv"
   },
   "outputs": [
    {
     "data": {
      "text/plain": [
       "True"
      ]
     },
     "execution_count": 262,
     "metadata": {},
     "output_type": "execute_result"
    }
   ],
   "source": [
    "duplicates = df[df.duplicated('percentile', keep=False)].drop_duplicates(['percentile', 'id'])\n",
    "duplicates_check.duplicated('percentile').any()"
   ]
  },
  {
   "cell_type": "markdown",
   "metadata": {
    "id": "jPiMwyqHhLuy"
   },
   "source": [
    "#### 2. [0.5 балла] Есть ли в данных пропуски? В каких колонках? Сколько их в каждой из этих колонок?"
   ]
  },
  {
   "cell_type": "code",
   "execution_count": 263,
   "metadata": {
    "id": "edY1RrSOhLuy"
   },
   "outputs": [
    {
     "name": "stdout",
     "output_type": "stream",
     "text": [
      "Всего пропусков: 1233\n",
      "18_group         138\n",
      "is_mi            343\n",
      "is_first_time      2\n",
      "17_group         223\n",
      "blended          223\n",
      "is_ml_student    304\n",
      "dtype: int64\n"
     ]
    }
   ],
   "source": [
    "skipped = df.isnull().sum()\n",
    "print(\"Всего пропусков:\", skipped.sum())\n",
    "print(skipped[skipped > 0])"
   ]
  },
  {
   "cell_type": "markdown",
   "metadata": {},
   "source": [
    "Да, видим колонки и количество выше"
   ]
  },
  {
   "cell_type": "markdown",
   "metadata": {
    "id": "B5ORhP2uhLuz"
   },
   "source": [
    "Заполните пропуски пустой строкой для строковых колонок, нулём для числовых и False для булевых (постарайтесь избежать перечисления названий всех столбцов)."
   ]
  },
  {
   "cell_type": "code",
   "execution_count": 264,
   "metadata": {
    "id": "TlF_JJ2ghLuz"
   },
   "outputs": [],
   "source": [
    "df[df.select_dtypes(include='number').columns] = df.select_dtypes(include='number').fillna(0)\n",
    "df[df.select_dtypes(include='object').columns] = df.select_dtypes(include='object').fillna('')\n",
    "df[df.select_dtypes(include='bool').columns] = df.select_dtypes(include='bool').fillna(False)"
   ]
  },
  {
   "cell_type": "markdown",
   "metadata": {
    "id": "w5ELhkT1hLuz"
   },
   "source": [
    "#### 3. [0.5 балла] Посмотрите повнимательнее на колонку 'is_first_time'.\n",
    "\n",
    "Каково процентное соотношение ответов? Сколько из них \"Нет\"?"
   ]
  },
  {
   "cell_type": "code",
   "execution_count": 265,
   "metadata": {
    "id": "VEfiNsyQhLuz"
   },
   "outputs": [
    {
     "name": "stdout",
     "output_type": "stream",
     "text": [
      "Ответов Нет:  14.127423822714682 %\n",
      "Ответов Да:  85.3185595567867 %\n",
      "['Да' 'Нет' '']\n"
     ]
    }
   ],
   "source": [
    "print('Ответов Нет: ', df[df['is_first_time'] == 'Нет'].shape[0]/df.shape[0]*100,'%')\n",
    "print('Ответов Да: ',df[df['is_first_time'] == 'Да'].shape[0]/df.shape[0]*100,'%')\n",
    "print(df['is_first_time'].unique())"
   ]
  },
  {
   "cell_type": "markdown",
   "metadata": {
    "id": "7ufxpSDO9Hyc"
   },
   "source": [
    "Если вы найдете повторные обращения студентов, оставьте только самую позднюю версию. В дальнейших заданиях используйте версию данных без повторов.\n",
    "\n",
    "<i>Обращения со значением \"Нет\" в 'is_first_time' могут быть как повторными, так и первичными, поскольку поле заполняли сами студенты.</i>"
   ]
  },
  {
   "cell_type": "code",
   "execution_count": 266,
   "metadata": {
    "id": "M0Wx60oU9IkX"
   },
   "outputs": [],
   "source": [
    "df_sorted = df.sort_values(by=['id', 'timestamp'], ascending=[True, False])\n",
    "df_unique = df_sorted.drop_duplicates(subset='id', keep='first')\n",
    "df = df_unique.sort_index()"
   ]
  },
  {
   "cell_type": "markdown",
   "metadata": {
    "id": "IlzHp3HVhLuz"
   },
   "source": [
    "#### 4. [0.5 балла] Какие  blended-курсы для четверокурсников существуют? На какой blended-курс записалось наибольшее количество студентов? На каком из blended-курсов собрались студенты с самым высоким средним рейтингом (выведите этот курс и количество студентов на нем)?"
   ]
  },
  {
   "cell_type": "code",
   "execution_count": 267,
   "metadata": {
    "id": "bsn4vn8RhLuy"
   },
   "outputs": [
    {
     "name": "stdout",
     "output_type": "stream",
     "text": [
      "{'Соревновательный анализ данных', 'DevOps', 'Введение в дифференциальную геометрию'}\n",
      "DevOps 87\n",
      "Введение в дифференциальную геометрию 1210.7333333333333\n"
     ]
    }
   ],
   "source": [
    "print(set(df[df['17_group'] != 0]['blended']))\n",
    "print(df[df['17_group'] != 0]['blended'].value_counts().idxmax(), max(df[df['17_group'] != 0]['blended'].value_counts()))\n",
    "print(df[df['17_group'] != 0].groupby('blended')['rating'].mean().idxmax(), max(df[df['17_group'] != 0].groupby('blended')['rating'].mean()))"
   ]
  },
  {
   "cell_type": "markdown",
   "metadata": {
    "id": "IU_FLt8HhLu0"
   },
   "source": [
    "#### 5. [1 балл] Выясните, есть ли студенты с абсолютно одинаковыми предпочтениями по всем курсам.\n",
    "\n",
    "Для этого сформируйте таблицу, где для каждого возможного набора курсов посчитано количество студентов, выбравших такой набор, и оставьте только строки где это количество больше 1.\n",
    "\n",
    "В данном случае набор курсов задается упорядоченным множеством ('fall_1', 'fall_2', 'fall_3', 'spring_1', 'spring_2', 'spring_3', 'blended'). Элемент blended будет нулевым для 3-го курса."
   ]
  },
  {
   "cell_type": "markdown",
   "metadata": {},
   "source": [
    "https://stackoverflow.com/questions/39291499/how-to-concatenate-multiple-column-values-into-a-single-column-in-pandas-datafra"
   ]
  },
  {
   "cell_type": "code",
   "execution_count": 268,
   "metadata": {
    "id": "j_BRWerHhLu0"
   },
   "outputs": [
    {
     "data": {
      "text/html": [
       "<div>\n",
       "<style scoped>\n",
       "    .dataframe tbody tr th:only-of-type {\n",
       "        vertical-align: middle;\n",
       "    }\n",
       "\n",
       "    .dataframe tbody tr th {\n",
       "        vertical-align: top;\n",
       "    }\n",
       "\n",
       "    .dataframe thead th {\n",
       "        text-align: right;\n",
       "    }\n",
       "</style>\n",
       "<table border=\"1\" class=\"dataframe\">\n",
       "  <thead>\n",
       "    <tr style=\"text-align: right;\">\n",
       "      <th></th>\n",
       "      <th>permutation</th>\n",
       "      <th>number_of_student</th>\n",
       "    </tr>\n",
       "  </thead>\n",
       "  <tbody>\n",
       "    <tr>\n",
       "      <th>0</th>\n",
       "      <td>Statistical Learning Theory, Анализ неструктур...</td>\n",
       "      <td>2</td>\n",
       "    </tr>\n",
       "    <tr>\n",
       "      <th>60</th>\n",
       "      <td>Байесовские методы машинного обучения, Анализ ...</td>\n",
       "      <td>2</td>\n",
       "    </tr>\n",
       "    <tr>\n",
       "      <th>62</th>\n",
       "      <td>Байесовские методы машинного обучения, Анализ ...</td>\n",
       "      <td>2</td>\n",
       "    </tr>\n",
       "    <tr>\n",
       "      <th>72</th>\n",
       "      <td>Безопасность компьютерных систем, Statistical ...</td>\n",
       "      <td>3</td>\n",
       "    </tr>\n",
       "    <tr>\n",
       "      <th>84</th>\n",
       "      <td>Безопасность компьютерных систем, Высокопроизв...</td>\n",
       "      <td>2</td>\n",
       "    </tr>\n",
       "    <tr>\n",
       "      <th>102</th>\n",
       "      <td>Безопасность компьютерных систем, Высокопроизв...</td>\n",
       "      <td>3</td>\n",
       "    </tr>\n",
       "    <tr>\n",
       "      <th>105</th>\n",
       "      <td>Безопасность компьютерных систем, Высокопроизв...</td>\n",
       "      <td>2</td>\n",
       "    </tr>\n",
       "    <tr>\n",
       "      <th>113</th>\n",
       "      <td>Безопасность компьютерных систем, Матричные вы...</td>\n",
       "      <td>2</td>\n",
       "    </tr>\n",
       "    <tr>\n",
       "      <th>137</th>\n",
       "      <td>Безопасность компьютерных систем, Сбор и обраб...</td>\n",
       "      <td>2</td>\n",
       "    </tr>\n",
       "    <tr>\n",
       "      <th>155</th>\n",
       "      <td>Безопасность компьютерных систем, Теория баз д...</td>\n",
       "      <td>2</td>\n",
       "    </tr>\n",
       "    <tr>\n",
       "      <th>184</th>\n",
       "      <td>Высокопроизводительные вычисления, Безопасност...</td>\n",
       "      <td>2</td>\n",
       "    </tr>\n",
       "    <tr>\n",
       "      <th>201</th>\n",
       "      <td>Высокопроизводительные вычисления, Сбор и обра...</td>\n",
       "      <td>2</td>\n",
       "    </tr>\n",
       "    <tr>\n",
       "      <th>244</th>\n",
       "      <td>Моделирование временных рядов, Сбор и обработк...</td>\n",
       "      <td>2</td>\n",
       "    </tr>\n",
       "    <tr>\n",
       "      <th>292</th>\n",
       "      <td>Сбор и обработка данных с помощью краудсорсинг...</td>\n",
       "      <td>2</td>\n",
       "    </tr>\n",
       "    <tr>\n",
       "      <th>313</th>\n",
       "      <td>Язык SQL, Высокопроизводительные вычисления, Т...</td>\n",
       "      <td>2</td>\n",
       "    </tr>\n",
       "  </tbody>\n",
       "</table>\n",
       "</div>"
      ],
      "text/plain": [
       "                                           permutation  number_of_student\n",
       "0    Statistical Learning Theory, Анализ неструктур...                  2\n",
       "60   Байесовские методы машинного обучения, Анализ ...                  2\n",
       "62   Байесовские методы машинного обучения, Анализ ...                  2\n",
       "72   Безопасность компьютерных систем, Statistical ...                  3\n",
       "84   Безопасность компьютерных систем, Высокопроизв...                  2\n",
       "102  Безопасность компьютерных систем, Высокопроизв...                  3\n",
       "105  Безопасность компьютерных систем, Высокопроизв...                  2\n",
       "113  Безопасность компьютерных систем, Матричные вы...                  2\n",
       "137  Безопасность компьютерных систем, Сбор и обраб...                  2\n",
       "155  Безопасность компьютерных систем, Теория баз д...                  2\n",
       "184  Высокопроизводительные вычисления, Безопасност...                  2\n",
       "201  Высокопроизводительные вычисления, Сбор и обра...                  2\n",
       "244  Моделирование временных рядов, Сбор и обработк...                  2\n",
       "292  Сбор и обработка данных с помощью краудсорсинг...                  2\n",
       "313  Язык SQL, Высокопроизводительные вычисления, Т...                  2"
      ]
     },
     "execution_count": 268,
     "metadata": {},
     "output_type": "execute_result"
    }
   ],
   "source": [
    "courses = ['fall_1', 'fall_2', 'fall_3', 'spring_1', 'spring_2', 'spring_3', 'blended']\n",
    "df_courses = df[courses].copy()\n",
    "df_courses['permutation'] = df_courses.astype(str).agg(', '.join, axis=1)\n",
    "df_courses = df_courses.groupby('permutation').size().reset_index(name='number_of_student')\n",
    "df_courses_upd = df_courses[df_courses['number_of_student'] > 1]\n",
    "df_courses_upd"
   ]
  },
  {
   "cell_type": "markdown",
   "metadata": {
    "id": "spu3r3vchLu0"
   },
   "source": [
    "#### 6. [0.5 балла] Найдите курсы по выбору, на которые записывались как студенты 18-го года набора, так и студенты 17-го года."
   ]
  },
  {
   "cell_type": "code",
   "execution_count": 269,
   "metadata": {
    "id": "t21fWi8ShLu0"
   },
   "outputs": [
    {
     "name": "stdout",
     "output_type": "stream",
     "text": [
      "{'Принятие решений в условиях риска и неопределённости', 'Численные методы', 'Сбор и обработка данных с помощью краудсорсинга', 'Безопасность компьютерных систем', 'Statistical Learning Theory', 'Высокопроизводительные вычисления', 'Моделирование временных рядов'}\n"
     ]
    }
   ],
   "source": [
    "subj_17 = set(df[df['17_group'] != 0][['fall_1','fall_2','fall_3', 'spring_1','spring_2','spring_3']].values.flatten())\n",
    "subj_18 = set(df[df['18_group'] != 0][['fall_1','fall_2','fall_3', 'spring_1','spring_2','spring_3']].values.flatten())\n",
    "a = subj_17 & subj_18\n",
    "print(a)"
   ]
  },
  {
   "cell_type": "markdown",
   "metadata": {
    "id": "PYfX-Dr5hLu0"
   },
   "source": [
    "Методом исключения найдите курсы, которые предлагались только студентам 18-го года и только студентам 17-го года."
   ]
  },
  {
   "cell_type": "code",
   "execution_count": 270,
   "metadata": {
    "id": "G9SWBOpehLu1"
   },
   "outputs": [
    {
     "name": "stdout",
     "output_type": "stream",
     "text": [
      "Студентам 17-го года: {'Анализ неструктурированных данных', 'Методы сжатия и передачи медиаданных', 'Глубинное обучение в обработке звука', 'Компьютерное зрение', 'Символьные вычисления', 'Конфликты и кооперация', 'Обучение с подкреплением', 'Байесовские методы машинного обучения', 'Проектирование и разработка высоконагруженных сервисов', 'Генеративные модели в машинном обучении'}\n",
      "Студентам 18-го года: {'Машинное обучение 2', 'Матричные вычисления', 'Системы баз данных', 'Анализ данных в бизнесе', 'Язык SQL', 'Теория баз данных', 'Компьютерные сети', 'Дополнительные главы прикладной статистики', 'Промышленное программирование на языке Java', 'Дискретная оптимизация'}\n"
     ]
    }
   ],
   "source": [
    "print('Студентам 17-го года:', subj_17 - (subj_17 & subj_18))\n",
    "print('Студентам 18-го года:', subj_18 - (subj_17 & subj_18))"
   ]
  },
  {
   "cell_type": "markdown",
   "metadata": {
    "id": "uL45Tg5fhLu1"
   },
   "source": [
    "### Визуализации и matplotlib"
   ]
  },
  {
   "cell_type": "markdown",
   "metadata": {
    "id": "MY9lKmP2hLu1"
   },
   "source": [
    "При работе с данными часто неудобно делать какие-то выводы, если смотреть на таблицу и числа в частности, поэтому важно уметь визуализировать данные. Здесь будут описаны ключевые правила оформления графиков для **всех** домашних заданий.\n",
    "\n",
    "У matplotlib, конечно же, есть [документация](https://matplotlib.org/users/index.html) с большим количеством [примеров](https://matplotlib.org/examples/), но для начала достаточно знать про несколько основных типов графиков:\n",
    "- plot — обычный поточечный график, которым можно изображать кривые или отдельные точки;\n",
    "- hist — гистограмма, показывающая распределение некоторой величины;\n",
    "- scatter — график, показывающий взаимосвязь двух величин;\n",
    "- bar — столбцовый график, показывающий взаимосвязь количественной величины от категориальной.\n",
    "\n",
    "В этом задании вы попробуете построить один из них. Не забывайте про базовые принципы построения приличных графиков:\n",
    "- оси должны быть подписаны, причём не слишком мелко;\n",
    "- у графика должно быть название;\n",
    "- если изображено несколько графиков, то необходима поясняющая легенда;\n",
    "- все линии на графиках должны быть чётко видны (нет похожих цветов или цветов, сливающихся с фоном);\n",
    "- если отображена величина, имеющая очевидный диапазон значений (например, проценты могут быть от 0 до 100), то желательно масштабировать ось на весь диапазон значений (исключением является случай, когда вам необходимо показать малое отличие, которое незаметно в таких масштабах);\n",
    "- сетка на графике помогает оценить значения в точках на глаз, это обычно полезно, поэтому лучше ее отрисовывать;\n",
    "- если распределение на гистограмме имеет тяжёлые хвосты, лучше использовать логарифмическую шкалу.\n",
    "\n",
    "Еще одна билиотека для визуализации: [seaborn](https://jakevdp.github.io/PythonDataScienceHandbook/04.14-visualization-with-seaborn.html) (обычно сокращается до sns). Это настройка над matplotlib, иногда удобнее и красивее делать визуализации через неё.\n",
    "\n",
    "**5 пунктов после которых ваши графики не будут прежними:**\n",
    "- для красивой картинки <code>%config InlineBackend.figure_format = 'retina'</code>\n",
    "- задаем размер (почти) всех графиков (можно выбрать другие значения) <code>plt.rcParams['figure.figsize'] = 8, 5</code>\n",
    "- размер шрифта подписей графиков <code>plt.rcParams['font.size'] = 12</code>\n",
    "- формат в котором сохраняется изображение <code>mpl.rcParams['savefig.format'] = 'pdf'</code>\n",
    "- sns – seaborn, добавляет решетку <code>sns.set_style('darkgrid')</code>\n",
    "\n",
    "Добавьте эти функции в ячейку ниже. Каждый график все равно придется настраивать отдельно, но указанные строчки позволят значительно упростить процесс.  "
   ]
  },
  {
   "cell_type": "code",
   "execution_count": 271,
   "metadata": {
    "id": "na9doUOFhLu1"
   },
   "outputs": [],
   "source": [
    "%matplotlib inline\n",
    "import matplotlib.pyplot as plt\n",
    "import seaborn as sns\n",
    "\n",
    "%config InlineBackend.figure_format = 'retina'\n",
    "plt.rcParams['figure.figsize'] = 8, 5\n",
    "plt.rcParams['font.size'] = 12\n",
    "mpl.rcParams['savefig.format'] = 'pdf'\n",
    "sns.set_style('darkgrid')"
   ]
  },
  {
   "cell_type": "markdown",
   "metadata": {
    "id": "kikwLpxfhLu1"
   },
   "source": [
    "#### 7. [0.5 балла] Постройте график средних рейтингов по дням получения ответов (bar plot)."
   ]
  },
  {
   "cell_type": "code",
   "execution_count": 286,
   "metadata": {
    "id": "UTPLVeQvhLu2"
   },
   "outputs": [
    {
     "data": {
      "image/png": "[encoded data removed]",
      "text/plain": [
       "<Figure size 1000x600 with 1 Axes>"
      ]
     },
     "metadata": {
      "image/png": {
       "height": 620,
       "width": 862
      }
     },
     "output_type": "display_data"
    }
   ],
   "source": [
    "plt.figure(figsize=(10, 6))\n",
    "# df['timestamp'] = df['timestamp'].dt.date\n",
    "plt.bar(df.groupby('timestamp')['rating'].mean().index, df.groupby('timestamp')['rating'].mean().values, color='green')\n",
    "plt.xlabel('День(дата)')\n",
    "plt.ylabel('Средний рейтинг')\n",
    "plt.title('График средних рейтингов по дням получения ответов')\n",
    "plt.xticks(rotation=90)\n",
    "plt.savefig('1191.pdf')\n",
    "plt.show()"
   ]
  },
  {
   "cell_type": "markdown",
   "metadata": {
    "id": "AmsQg9_xhLu2"
   },
   "source": [
    "Сохраните график в формате pdf (так он останется векторизованным)."
   ]
  },
  {
   "cell_type": "code",
   "execution_count": 285,
   "metadata": {
    "id": "vKZNSwWghLu2"
   },
   "outputs": [
    {
     "data": {
      "text/plain": [
       "<Figure size 800x500 with 0 Axes>"
      ]
     },
     "metadata": {},
     "output_type": "display_data"
    }
   ],
   "source": [
    "plt.savefig('1191.pdf')"
   ]
  },
  {
   "cell_type": "markdown",
   "metadata": {
    "id": "sCgWwjl0hLu2"
   },
   "source": [
    "### 2. Распределение студентов по курсам."
   ]
  },
  {
   "cell_type": "markdown",
   "metadata": {
    "id": "6rjOnzRN8A8l"
   },
   "source": [
    "<span style=\"color:red\">!!!ВНИМАТЕЛЬНО ИЗУЧИТЕ ТЕКСТ НИЖЕ!!!</span>.\n",
    "\n",
    "<span style=\"color:orange\">Если во время выполнения заданий у вас вознинут вопросы -- еще раз перечитайте текст целиком, скорее всего ответы уже содержатся в нем.</span>"
   ]
  },
  {
   "cell_type": "markdown",
   "metadata": {
    "id": "VNqXUpr4hLu3"
   },
   "source": [
    "Теперь вам нужно распределить студентов по осенним курсам по выбору, учитывая их предпочтения."
   ]
  },
  {
   "cell_type": "markdown",
   "metadata": {
    "id": "5cAR2FgphLu3"
   },
   "source": [
    "## 📌 **Алгоритм распределения студентов по курсам**:\n",
    "1. По умолчанию на каждой дисциплине по выбору у 3 и 4 курсов может учиться 1 группа (до 30 студентов). Исключения описаны ниже. На blended-дисциплинах для четверокурсников количество мест не ограничено.\n",
    "2. Проводится первая волна отбора. Для каждой дисциплины формируется список тех, кто указал её первым приоритетом (если студент должен выбрать два курса по выбору, то для него дисциплины, которые он указал первым и вторым приоритетом, рассматриваются как дисциплины первого приоритета). Если желающих больше, чем мест, то выбирается топ по перцентилю рейтинга.\n",
    "3. На дисциплинах, где остались места после первой волны, формируются списки тех, кто выбрал их вторым приоритетом, и места заполняются лучшими по перцентили рейтинга студентами. После этого проводится такая же процедура для дисциплин третьего приоритета.\n",
    "4. Если студент не попал на необходимое количество курсов по итогам трёх волн, с ним связывается учебный офис и решает вопрос в индивидуальном порядке."
   ]
  },
  {
   "cell_type": "markdown",
   "metadata": {
    "id": "BiNKVwS6hLu3"
   },
   "source": [
    "## ☝️ **Обращаем ваше внимание на следующие детали:**\n",
    "- Конкурс на каждый курс общий для 3-го и 4-го курса\n",
    "\n",
    "- По умолчанию студент выбирает один осенний и один весенний курс по выбору, а также четверокурсники выбирают один blended-курс. Студенты групп 17-го года специализаций МОП и ТИ выбирают по 2 осенних и 2 весенних курса по выбору, также студенты групп 18' специализации МИ выбирают 2 осенних курса. <i>Для студентов, которые выбирают 2 курса (например, осенних) первый приоритет — <code>fall_1</code> и <code>fall_2</code>, второй приоритет — <code>fall_3</code>. Такие студенты участвуют только в двух волнах отбора</i>.\n",
    "\n",
    "- Студенты специализации МОП не могут выбрать весенним курсом по выбору Машинное обучение 2. **Если студент специализации МОП выбрал Машинное обучение 2, то его приоритеты сдвигаются.** Из-за совпадений первого и второго курса по выбору двигать приоритеты не надо.\n",
    "\n",
    "- Blended-курсы не трогайте, по ним не надо распределять, на другие курсы они никак не влияют.\n",
    "\n",
    "- Заведомо известно, что в процессе распределения не возникнет ситуации, когда на одно место претендуют студенты с одинаковым перцентилем.\n",
    "\n",
    "- Постарайтесь воздержаться от использования циклов там, где это возможно. <i>Допустимо итерироваться по <b>курсам</b>, на которые проводится отбор, и по <b>волнам</b> отбора. Если вы придумаете, как обойтись и без этих циклов, то на усмотрение проверяющего могут быть добавлены бонусные баллы. <b>Дублирование кода не признается успешным избавлением от циклов</b></i>\n",
    "\n",
    "- На выходе ожидается файл res_fall.csv с результатами распределения на осенние курсы по выбору. Файл должен быть следующего формата:\n",
    "\n",
    "    * Три колонки: ID, course1, course2\n",
    "    \n",
    "    * Если студент не попал на курс, но должен был, то вместо названия курса в ячейке должна быть строка \"???\"\n",
    "    \n",
    "    * Если студент должен выбрать только один курс, то в колонке course2 для него должна стоять строка \"-\"\n",
    "    \n",
    "    * Если студент должен выбрать два курса по выбору, то порядок в колонках course1 и course2 не важен.\n",
    "    \n",
    "    * hint: для сохранения воспользуйтесь `df.to_csv('solution.csv', index=None)`\n",
    "    \n",
    "\n",
    "Для работы вам могут понадобиться следующие данные:\n",
    "\n",
    "- Результаты опроса (вы уже использовали этот файл в первой части задания, но на всякий случай ссылка: https://www.dropbox.com/s/f4rm8sjc3v99p0m/_end_seminar.xlsx?dl=0)\n",
    "\n",
    "- Соответствие номеров групп специализациям:\n",
    "\n",
    "    * 171, 172 - МОП; 173 - ТИ; 174 — АДИС; 175, 176 — РС; 177 — АПР\n",
    "    \n",
    "    * У студентов 18-го года номера групп соответствуют номерам до распределения по специализациям. Это означает, что по номеру группы 18* нельзя однозначно определить специализацию студента. При этом в рамках распределения важно знать информацию только о двух из них: МОП и МИ. Эти знание можно получить из колонок 'is_ml_student\n",
    "' и 'is_mi' соответственно.\n",
    "\n",
    "- Ограничения по количеству мест на курсах по выбору:\n",
    "\n",
    "    * Осенние: везде 30 мест, кроме Statistical Learning Theory (60 мест), Высокопроизводительных вычислений (60 мест), Анализа неструктурированных данных ($\\infty$ мест)\n",
    "\n",
    "    * Весенние: везде 30 мест, кроме Обучения с подкреплением (60 мест), Анализа данных в бизнесе (60 мест).\n",
    "\n",
    "\n",
    "Кстати, убедитесь, что в данных больше нет пропусков и повторных записей."
   ]
  },
  {
   "cell_type": "markdown",
   "metadata": {
    "id": "o5t55IcQhLu4"
   },
   "source": [
    "#### 0. Проверка\n",
    "\n",
    "Для начала давайте убедимся, что вы успешно выполнили задания первой части и проверим ваши данные на наличие пропусков и повторов:"
   ]
  },
  {
   "cell_type": "code",
   "execution_count": 287,
   "metadata": {
    "id": "34HWEdVdhLu4"
   },
   "outputs": [],
   "source": [
    "assert df.shape[0] == 347, 'В таблице остались повторы или потеряны данные'\n",
    "\n",
    "assert df.isna().sum().sum() == 0, 'В таблице остались пропуски'"
   ]
  },
  {
   "cell_type": "markdown",
   "metadata": {
    "id": "_ImUFyG3hLu4"
   },
   "source": [
    "Если вы не получили AssertionError, то можете продолжать."
   ]
  },
  {
   "cell_type": "markdown",
   "metadata": {
    "id": "LTGSwwvAhLu4"
   },
   "source": [
    "#### 1. [1 балл] Создайте новый признак, обозначающий, сколько осенних курсов должен выбрать студент\n",
    "\n",
    "В этом вам может помочь информация о специализации и группе стундента."
   ]
  },
  {
   "cell_type": "code",
   "execution_count": 288,
   "metadata": {
    "id": "ouxo0kHFhLu4"
   },
   "outputs": [],
   "source": [
    "df['number_course'] = 1\n",
    "\n",
    "df.loc[(df['17_group'].isin([171, 172, 173])) | (df['is_mi'] != 0), 'number_course'] = 2"
   ]
  },
  {
   "cell_type": "markdown",
   "metadata": {
    "id": "S47aq1sQhLu4"
   },
   "source": [
    "Проверка:"
   ]
  },
  {
   "cell_type": "code",
   "execution_count": 289,
   "metadata": {
    "id": "OlOgzDKDhLu5"
   },
   "outputs": [],
   "source": [
    "col_name = 'number_course'   # insert your new column name as str\n",
    "\n",
    "assert(df[df['id'] == '2662600c2c37e11e62f6ee0b88452f22'][col_name] == 2).all()\n",
    "assert(df[df['id'] == 'd555d2805e1d93d4f023e57dc4c8f403'][col_name] == 2).all()\n",
    "assert(df[df['id'] == '8fe79f84f36e3a5d2d6745621321302c'][col_name] == 1).all()\n",
    "assert(df[df['id'] == 'e4caca755ee0bdd711e18fb8084958b5'][col_name] == 1).all()"
   ]
  },
  {
   "cell_type": "markdown",
   "metadata": {
    "id": "VtQYhwuPhLu5"
   },
   "source": [
    "#### 2. [2 балла] Распределите студентов в соответствии с первым приоритетом"
   ]
  },
  {
   "cell_type": "code",
   "execution_count": 304,
   "metadata": {
    "id": "6gWfT3vqhLu5"
   },
   "outputs": [],
   "source": [
    "df['is_first_place'] = NaN\n",
    "df['is_last_place'] = NaN\n",
    "df['course_1'] = NaN\n",
    "df['course_2'] = NaN\n",
    "dict_courses = dict()\n",
    "dict_fall_course_number_of_students = dict()\n",
    "for fall_course in (pd.concat([df['fall_1'], df['fall_2'], df['fall_3']])).unique():\n",
    "    students_on_course = df[\n",
    "        (df['fall_1'] == fall_course) | ((df['fall_2'] == fall_course) & (df['number_course'] == 2))\n",
    "    ]\n",
    "    sorted_students_on_course = students_on_course.sort_values(by='percentile')\n",
    "    if fall_course == 'Statistical Learning Theory' or fall_course == 'Высокопроизводительные вычисления':\n",
    "        number_of_students_per_course = min(60, len(sorted_students_on_course))\n",
    "        dict_courses[fall_course] = 60\n",
    "    elif fall_course == 'Анализ неструктурированных данных':\n",
    "        number_of_students_per_course = len(sorted_students_on_course)\n",
    "        dict_courses[fall_course] = 1000\n",
    "    else:\n",
    "        number_of_students_per_course = min(30, len(sorted_students_on_course))\n",
    "        dict_courses[fall_course] = 30\n",
    "    dict_fall_course_number_of_students[fall_course] = number_of_students_per_course\n",
    "    students_of_fall_course = sorted_students_on_course.head(number_of_students_per_course)\n",
    "    for index in students_of_fall_course.index:\n",
    "        if pd.isna(df.at[index, 'course_1']):\n",
    "            df.at[index, 'course_1'] = fall_course\n",
    "        else:\n",
    "            if fall_course != df.at[index, 'course_1']:\n",
    "                    df.at[index, 'course_2'] = fall_course\n",
    "    df.loc[students_of_fall_course.index[0], 'is_first_place'] = True\n",
    "    df.loc[students_of_fall_course.index[-1], 'is_last_place'] = True"
   ]
  },
  {
   "cell_type": "markdown",
   "metadata": {
    "id": "vc5zXP5hhLu5"
   },
   "source": [
    "Здесь для проверки приведена таблица, в которой есть 2 дополнительные колонки:\n",
    "    \n",
    "    1) is_first_place - является ли студент лучшим по перцентили хотя бы на одном из курсов, куда он был зачислен\n",
    "    (True / NaN)\n",
    "    \n",
    "    2) is_last_place  - является ли студент худшим по перцентили хотя бы на одном из курсов, куда он был зачислен (True / NaN)"
   ]
  },
  {
   "cell_type": "code",
   "execution_count": 291,
   "metadata": {
    "id": "uZTkGEq5hLu5"
   },
   "outputs": [],
   "source": [
    "!wget  -O '2_task_check.csv' -q 'https://www.dropbox.com/s/v8o2zzq3iz5gc9w/_2_task_check.csv?dl=0'\n",
    "check_df = pd.read_csv('2_task_check.csv')"
   ]
  },
  {
   "cell_type": "markdown",
   "metadata": {
    "id": "E_fbyB9qhLu5"
   },
   "source": [
    "После распределения студентов в соответствии с первым приоритетом добавьте в свой датафрейм аналогичные признаки и запустите проверку:"
   ]
  },
  {
   "cell_type": "code",
   "execution_count": 305,
   "metadata": {
    "id": "GOAzQeYehLu6"
   },
   "outputs": [],
   "source": [
    "fir_col_name = 'is_first_place'    # insert name of your new column with is_first_place as str\n",
    "last_col_name = 'is_last_place'     # insert name of your new column with is_last_place as str\n",
    "\n",
    "\n",
    "\n",
    "assert((df[df[fir_col_name].isna() == False][['id']].sort_values('id').reset_index(drop=True)\n",
    "        ==\n",
    "        check_df[check_df['is_first_place'].isna() == False][['id']].sort_values('id').reset_index(drop=True)\n",
    "       ).id.values).all()\n",
    "\n",
    "\n",
    "assert((df[df[last_col_name].isna() == False][['id']].sort_values('id').reset_index(drop=True)\n",
    "       ==\n",
    "       check_df[check_df['is_last_place'].isna() == False][['id']].sort_values('id').reset_index(drop=True)\n",
    "      ).id.values).all()"
   ]
  },
  {
   "cell_type": "markdown",
   "metadata": {
    "id": "RO6DwNNFhLu6"
   },
   "source": [
    "#### 3. [2 балла] Проведите все три волны отбора студентов на курсы по выбору"
   ]
  },
  {
   "cell_type": "code",
   "execution_count": 306,
   "metadata": {},
   "outputs": [],
   "source": [
    "for fall_course in (pd.concat([df['fall_1'], df['fall_2'], df['fall_3']])).unique():\n",
    "    students_on_course = df[\n",
    "        ((df['fall_3'] != df['fall_2']) & (df['fall_3'] == fall_course) & (df['number_course'] == 2) & (df['course_1'].isna() | (df['course_2'].isna()))) | \n",
    "         ((df['fall_2'] == fall_course) & (df['number_course'] == 1) & (df['course_1'].isna()))\n",
    "    ]\n",
    "    if dict_fall_course_number_of_students[fall_course] == dict_courses[fall_course]:\n",
    "        continue\n",
    "    else:\n",
    "        sorted_students_on_course = students_on_course.sort_values(by='percentile')\n",
    "        students_of_fall_course = sorted_students_on_course.head(min(dict_courses[fall_course] - dict_fall_course_number_of_students[fall_course], len(sorted_students_on_course)))\n",
    "        dict_fall_course_number_of_students[fall_course] += min(dict_courses[fall_course] - dict_fall_course_number_of_students[fall_course], len(sorted_students_on_course))\n",
    "        for index in students_of_fall_course.index:\n",
    "            if pd.isna(df.at[index, 'course_1']):\n",
    "                df.at[index, 'course_1'] = fall_course\n",
    "            else:\n",
    "                if fall_course != df.at[index, 'course_1']:\n",
    "                    df.at[index, 'course_2'] = fall_course\n"
   ]
  },
  {
   "cell_type": "code",
   "execution_count": 307,
   "metadata": {
    "id": "jn2OOrLjhLu6"
   },
   "outputs": [],
   "source": [
    "for fall_course in (pd.concat([df['fall_1'], df['fall_2'], df['fall_3']])).unique():\n",
    "    students_on_course = df[\n",
    "        ((df['fall_3'] == fall_course) & (df['number_course'] == 1) & df['course_1'].isna())\n",
    "    ]\n",
    "    if dict_fall_course_number_of_students[fall_course] == dict_courses[fall_course]:\n",
    "        continue\n",
    "    else:\n",
    "        sorted_students_on_course = students_on_course.sort_values(by='percentile')\n",
    "        students_of_fall_course = sorted_students_on_course.head(min(dict_courses[fall_course] - dict_fall_course_number_of_students[fall_course], len(sorted_students_on_course)))\n",
    "        dict_fall_course_number_of_students[fall_course] += min(dict_courses[fall_course] - dict_fall_course_number_of_students[fall_course], len(sorted_students_on_course))\n",
    "        for index in students_of_fall_course.index:\n",
    "            if pd.isna(df.at[index, 'course_1']):\n",
    "                df.at[index, 'course_1'] = fall_course\n",
    "            else:\n",
    "                if fall_course != df.at[index, 'course_1']:\n",
    "                    df.at[index, 'course_2'] = fall_course"
   ]
  },
  {
   "cell_type": "code",
   "execution_count": 308,
   "metadata": {},
   "outputs": [],
   "source": [
    "df.loc[df['course_1'].isna() & (df['fall_1'].notna() | df['fall_2'].notna()), 'course_1'] = '???'\n",
    "df.loc[df['course_2'].isna() & (df['fall_3'].notna() & df['number_course'] == 2), 'course_1'] = '???'\n",
    "df.loc[df['number_course'] == 1, 'course_2'] = '-'\n",
    "df['course_2'] = df['course_2'].fillna('???')"
   ]
  },
  {
   "cell_type": "code",
   "execution_count": 309,
   "metadata": {},
   "outputs": [],
   "source": [
    "res_fall = df[['id', 'course_1', 'course_2']]\n",
    "res_fall = res_fall.rename(columns={'id': 'ID', 'course_1': 'course1', 'course_2': 'course2'})\n",
    "res_fall.to_csv('res_fall1.csv', index=None)"
   ]
  },
  {
   "cell_type": "markdown",
   "metadata": {
    "id": "1xQjV9BuhLu6"
   },
   "source": [
    "**Отправьте свой файл res_fall.csv в контест (будет в ближайшее время, следите за новостями) и прикрепите/укажите ниже ваш никнейм и ссылку на успешную посылку.**"
   ]
  },
  {
   "cell_type": "markdown",
   "metadata": {},
   "source": [
    "semen-zotov19 \n",
    "https://contest.yandex.ru/contest/68637/run-report/119793620/"
   ]
  },
  {
   "cell_type": "markdown",
   "metadata": {
    "id": "QRTbPrgbhLu6"
   },
   "source": [
    "*Дисклеймер:*\n",
    "\n",
    "Успешная посылка в контесте является **обязательным** условием получения полного балла за этот (и следующий) пункт. Если добиться успешной посылки не удастся, баллы будут выставляться на усмотрение проверяюшего.\n",
    "\n",
    "При этом ОК в контесте не гарантирует полный балл. Оценка всё равно может быть снижена в случае обнаружения неэффективностей или ошибок в коде. Если вы сдадите в AnyTask очевидно неработающий код или ноутбук без кода, но при этом в контест будет сдан корректный файл, то это будет расцениваться как плагиат."
   ]
  },
  {
   "cell_type": "markdown",
   "metadata": {
    "id": "1IkQa_gdhLu6"
   },
   "source": [
    "На всякий случай просим вас сдать вместе с ноутбуком файл res_fall.csv в anytask"
   ]
  },
  {
   "cell_type": "markdown",
   "metadata": {
    "id": "k8d711qGhLu7"
   },
   "source": [
    "### 4. [1 балла] Распределите таким же образом студентов еще и на весенние курсы по выбору.\n",
    "\n",
    "Если ваш код был хорошо структурирован, то это не составит проблем.\n",
    "\n",
    "Если вы выполнили это задание, сдайте среди прочего файл res_spring.csv в таком же формате, как и res_fall.csv."
   ]
  },
  {
   "cell_type": "code",
   "execution_count": 104,
   "metadata": {},
   "outputs": [],
   "source": [
    "df = df.drop(['fall_1', 'fall_2', 'fall_3', 'number_course', 'course_1', 'course_2', 'is_first_place', 'is_last_place'], axis=1)"
   ]
  },
  {
   "cell_type": "code",
   "execution_count": 298,
   "metadata": {
    "id": "hwmusOGThLu7"
   },
   "outputs": [],
   "source": [
    "df['number_course_spring'] = 1\n",
    "df['course_1_spring'] = NaN\n",
    "df['course_2_spring'] = NaN\n",
    "dict_courses_spring = dict()\n",
    "dict_spring_course_number_of_students = dict()\n",
    "\n",
    "df.loc[(df['17_group'].isin([171, 172, 173])), 'number_course_spring'] = 2\n",
    "\n",
    "for spring_course in (pd.concat([df['spring_1'], df['spring_2'], df['spring_3']])).unique():\n",
    "    if spring_course == 'Машинное обучение 2':\n",
    "        students_on_course = df[\n",
    "            (df['17_group'] != '171') & (df['17_group'] != '172') & (df['is_ml_student'] != 1) &\n",
    "            (df['spring_1'] == spring_course) | ((df['spring_2'] == spring_course) & (df['number_course_spring'] == 2))\n",
    "        ]\n",
    "        sorted_students_on_course = students_on_course.sort_values(by='percentile')\n",
    "        number_of_students_per_course = min(30, len(sorted_students_on_course))\n",
    "        dict_courses_spring[spring_course] = 30\n",
    "        dict_spring_course_number_of_students[spring_course] = number_of_students_per_course\n",
    "        students_of_spring_course = sorted_students_on_course.head(number_of_students_per_course)\n",
    "        for index in students_of_spring_course.index:\n",
    "            if pd.isna(df.at[index, 'course_1_spring']):\n",
    "                df.at[index, 'course_1_spring'] = spring_course\n",
    "            else:\n",
    "                if spring_course != df.at[index, 'course_1_spring']:\n",
    "                    df.at[index, 'course_2_spring'] = spring_course\n",
    "        \n",
    "    else:\n",
    "        students_on_course = df[\n",
    "            (df['spring_1'] == spring_course) | \n",
    "            ((df['spring_2'] == spring_course) & (df['number_course_spring'] == 2)) |\n",
    "            ((df['spring_2'] == spring_course) & (df['is_ml_student'] == 1) & (df['spring_1'] == 'Машинное обучение 2'))\n",
    "        ]\n",
    "        sorted_students_on_course = students_on_course.sort_values(by='percentile')\n",
    "        if spring_course == 'Обучение с подкреплением' or spring_course == 'Анализ данных в бизнесе':\n",
    "            number_of_students_per_course = min(60, len(sorted_students_on_course))\n",
    "            dict_courses_spring[spring_course] = 60\n",
    "        else:\n",
    "            number_of_students_per_course = min(30, len(sorted_students_on_course))\n",
    "            dict_courses_spring[spring_course] = 30\n",
    "        dict_spring_course_number_of_students[spring_course] = number_of_students_per_course\n",
    "        students_of_spring_course = sorted_students_on_course.head(number_of_students_per_course)\n",
    "        for index in students_of_spring_course.index:\n",
    "            if pd.isna(df.at[index, 'course_1_spring']):\n",
    "                df.at[index, 'course_1_spring'] = spring_course\n",
    "            else:\n",
    "                if spring_course != df.at[index, 'course_1_spring']:\n",
    "                    df.at[index, 'course_2_spring'] = spring_course\n"
   ]
  },
  {
   "cell_type": "code",
   "execution_count": 299,
   "metadata": {},
   "outputs": [],
   "source": [
    "for spring_course in (pd.concat([df['spring_1'], df['spring_2'], df['spring_3']])).unique():\n",
    "    if dict_spring_course_number_of_students[spring_course] == dict_courses_spring[spring_course]:\n",
    "        continue\n",
    "    else:\n",
    "        if spring_course == 'Машинное обучение 2':\n",
    "            students_on_course = df[\n",
    "                (df['17_group'] != '171') & (df['17_group'] != '172') & (df['is_ml_student'] != 1) &\n",
    "                (((df['spring_2'] == spring_course) & (df['number_course_spring'] == 1) & (df['course_1'].isna())) |\n",
    "                  ((df['spring_3'] == spring_course) & (df['number_course_spring'] == 2)& \n",
    "                   (df['course_1_spring'].isna() | (df['course_2_spring'].isna())))) \n",
    "            ]\n",
    "            sorted_students_on_course = students_on_course.sort_values(by='percentile')\n",
    "            students_of_spring_course = sorted_students_on_course.head(min(dict_courses_spring[spring_course] - dict_spring_course_number_of_students[spring_course], len(sorted_students_on_course)))\n",
    "            dict_spring_course_number_of_students[spring_course] += min(dict_courses_spring[spring_course] - dict_spring_course_number_of_students[spring_course], len(sorted_students_on_course))\n",
    "            for index in students_of_spring_course.index:\n",
    "                if pd.isna(df.at[index, 'course_1_spring']):\n",
    "                    df.at[index, 'course_1_spring'] = spring_course\n",
    "                else:\n",
    "                    if spring_course != df.at[index, 'course_1_spring']:\n",
    "                        df.at[index, 'course_2_spring'] = spring_course\n",
    "\n",
    "        else:\n",
    "            students_on_course = df[\n",
    "                 ((df['spring_2'] == spring_course) & (df['number_course_spring'] == 1) & (df['course_1_spring'].isna())) |\n",
    "                  ((df['spring_3'] == spring_course) & (df['number_course_spring'] == 2)\n",
    "                   & (df['course_1_spring'].isna() | (df['course_2_spring'].isna())))\n",
    "            ]\n",
    "            sorted_students_on_course = students_on_course.sort_values(by='percentile')\n",
    "            students_of_spring_course = sorted_students_on_course.head(min(dict_courses_spring[spring_course] - dict_spring_course_number_of_students[spring_course], len(sorted_students_on_course)))\n",
    "            dict_spring_course_number_of_students[spring_course] += min(dict_courses_spring[spring_course] - dict_spring_course_number_of_students[spring_course], len(sorted_students_on_course))\n",
    "            for index in students_of_spring_course.index:\n",
    "                if pd.isna(df.at[index, 'course_1_spring']):\n",
    "                    df.at[index, 'course_1_spring'] = spring_course\n",
    "                else:\n",
    "                    if spring_course != df.at[index, 'course_1_spring']:\n",
    "                        df.at[index, 'course_2_spring'] = spring_course"
   ]
  },
  {
   "cell_type": "code",
   "execution_count": 300,
   "metadata": {},
   "outputs": [],
   "source": [
    "for spring_course in (pd.concat([df['spring_1'], df['spring_2'], df['spring_3']])).unique():\n",
    "    if dict_spring_course_number_of_students[spring_course] == dict_courses_spring[spring_course]:\n",
    "        continue\n",
    "    else:\n",
    "        students_on_course = df[\n",
    "            ((df['spring_3'] == spring_course) & (df['number_course_spring'] == 1) & (df['course_1_spring'].isna()))\n",
    "            ]\n",
    "        sorted_students_on_course = students_on_course.sort_values(by='percentile')\n",
    "        students_of_spring_course = sorted_students_on_course.head(min(dict_courses_spring[spring_course] - dict_spring_course_number_of_students[spring_course], len(sorted_students_on_course)))\n",
    "        dict_spring_course_number_of_students[spring_course] += min(dict_courses_spring[spring_course] - dict_spring_course_number_of_students[spring_course], len(sorted_students_on_course))\n",
    "        for index in students_of_spring_course.index:\n",
    "            if pd.isna(df.at[index, 'course_1_spring']):\n",
    "                df.at[index, 'course_1_spring'] = spring_course\n",
    "            else:\n",
    "                if spring_course != df.at[index, 'course_1_spring']:\n",
    "                    df.at[index, 'course_2_spring'] = spring_course"
   ]
  },
  {
   "cell_type": "code",
   "execution_count": 301,
   "metadata": {},
   "outputs": [],
   "source": [
    "df.loc[df['course_1_spring'].isna() & (df['spring_1'].notna() | df['spring_2'].notna()), 'course_1_spring'] = '???'\n",
    "df.loc[df['course_2_spring'].isna() & (df['spring_3'].notna() & df['number_course_spring'] == 2), 'course_1_spring'] = '???'\n",
    "df.loc[df['number_course_spring'] == 1, 'course_2_spring'] = '-'\n",
    "df['course_2_spring'] = df['course_2_spring'].fillna('???')"
   ]
  },
  {
   "cell_type": "code",
   "execution_count": 302,
   "metadata": {},
   "outputs": [],
   "source": [
    "res_spring = df[['id', 'course_1_spring', 'course_2_spring']]\n",
    "res_spring = res_spring.rename(columns={'id': 'ID', 'course_1_spring': 'course1', 'course_2_spring': 'course2'})\n",
    "res_spring.to_csv('res_spring.csv', index=None)"
   ]
  },
  {
   "cell_type": "markdown",
   "metadata": {
    "id": "It7QQZLYhLu7"
   },
   "source": [
    "**Отправьте свой файл res_spring.csv в контест (будет в ближайшее время, следите за новостями) и прикрепите/укажите ниже ваш никнейм и ссылку на успешную посылку.**"
   ]
  },
  {
   "cell_type": "markdown",
   "metadata": {},
   "source": [
    "semen-zotov19 https://contest.yandex.ru/contest/68637/run-report/119793659/"
   ]
  },
  {
   "cell_type": "markdown",
   "metadata": {
    "id": "1YcouVTihLu7"
   },
   "source": [
    "На всякий случай просим вас сдать вместе с ноутбуком файл res_spring.csv в anytask"
   ]
  },
  {
   "cell_type": "markdown",
   "metadata": {
    "id": "uY_OY6inhLu7"
   },
   "source": [
    "Вставьте картинку, описывающую ваш опыт выполнения этого задания:"
   ]
  },
  {
   "cell_type": "code",
   "execution_count": null,
   "metadata": {
    "id": "R9_7CnSFhLu7"
   },
   "outputs": [],
   "source": []
  }
 ],
 "metadata": {
  "colab": {
   "provenance": []
  },
  "kernelspec": {
   "display_name": "Python 3 (ipykernel)",
   "language": "python",
   "name": "python3"
  },
  "language_info": {
   "codemirror_mode": {
    "name": "ipython",
    "version": 3
   },
   "file_extension": ".py",
   "mimetype": "text/x-python",
   "name": "python",
   "nbconvert_exporter": "python",
   "pygments_lexer": "ipython3",
   "version": "3.11.5"
  },
  "varInspector": {
   "cols": {
    "lenName": 16,
    "lenType": 16,
    "lenVar": 40
   },
   "kernels_config": {
    "python": {
     "delete_cmd_postfix": "",
     "delete_cmd_prefix": "del ",
     "library": "var_list.py",
     "varRefreshCmd": "print(var_dic_list())"
    },
    "r": {
     "delete_cmd_postfix": ") ",
     "delete_cmd_prefix": "rm(",
     "library": "var_list.r",
     "varRefreshCmd": "cat(var_dic_list()) "
    }
   },
   "types_to_exclude": [
    "module",
    "function",
    "builtin_function_or_method",
    "instance",
    "_Feature"
   ],
   "window_display": false
  },
  "vscode": {
   "interpreter": {
    "hash": "e7370f93d1d0cde622a1f8e1c04877d8463912d04d973331ad4851f04de6915a"
   }
  }
 },
 "nbformat": 4,
 "nbformat_minor": 1
}
